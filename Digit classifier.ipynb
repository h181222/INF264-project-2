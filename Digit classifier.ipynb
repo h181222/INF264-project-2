{
 "cells": [
  {
   "cell_type": "markdown",
   "metadata": {},
   "source": [
    "# Frame the problem, and look at the big picture"
   ]
  },
  {
   "cell_type": "markdown",
   "metadata": {},
   "source": [
    "Analyzing hand written digits and letters by hand is very time consuming, and by automaing the process with the use of machine learning, the postal office can save recources in manpower and money. \n",
    "\n",
    "In this notebook we are going to analyze a dataset of hand written digits, and in the end be able to predict the label of the given hand written digit. We are given a dataset that contains images, and the first half of this notebook will be spent getting the data, extracting informaion from the data and then preprocessing it for further analysis by our models."
   ]
  },
  {
   "cell_type": "markdown",
   "metadata": {},
   "source": [
    "## Setup"
   ]
  },
  {
   "cell_type": "code",
   "execution_count": 1,
   "metadata": {},
   "outputs": [
    {
     "name": "stderr",
     "output_type": "stream",
     "text": [
      "Using TensorFlow backend.\n"
     ]
    }
   ],
   "source": [
    "#!pip install lightgbm\n",
    "import os\n",
    "import time\n",
    "import numpy as np\n",
    "seed = 42\n",
    "np.random.seed(seed)\n",
    "\n",
    "import pandas as pd\n",
    "import matplotlib.pyplot as plt\n",
    "import seaborn as sns\n",
    "color = sns.color_palette(\"GnBu_d\")\n",
    "\n",
    "%matplotlib inline\n",
    "\n",
    "from sklearn import model_selection, preprocessing, metrics\n",
    "from sklearn.model_selection import GridSearchCV\n",
    "\n",
    "from keras import backend\n",
    "from keras.models import Sequential\n",
    "from keras.losses import categorical_crossentropy\n",
    "from keras.callbacks import LearningRateScheduler\n",
    "from keras.optimizers import SGD, Adam\n",
    "from keras.utils import to_categorical\n",
    "from keras.layers import Dense, BatchNormalization\n",
    "\n",
    "import warnings\n",
    "from sklearn.exceptions import DataConversionWarning\n",
    "warnings.filterwarnings(action='ignore', category=FutureWarning)\n",
    "warnings.filterwarnings(action='ignore', category=DataConversionWarning)\n"
   ]
  },
  {
   "cell_type": "markdown",
   "metadata": {},
   "source": [
    "# Get the data"
   ]
  },
  {
   "cell_type": "code",
   "execution_count": 2,
   "metadata": {},
   "outputs": [],
   "source": [
    "images = 'handwritten_digits_images.csv'\n",
    "labels = 'handwritten_digits_labels.csv'\n",
    "X = pd.read_csv(images, header=None)\n",
    "y = pd.read_csv(labels, header=None)"
   ]
  },
  {
   "cell_type": "markdown",
   "metadata": {},
   "source": [
    "# Explore the data to gain insights"
   ]
  },
  {
   "cell_type": "code",
   "execution_count": 3,
   "metadata": {},
   "outputs": [
    {
     "name": "stdout",
     "output_type": "stream",
     "text": [
      "   0    1    2    3    4    5    6    7    8    9    ...  774  775  776  777  \\\n",
      "0    0    0    0    0    0    0    0    0    0    0  ...    0    0    0    0   \n",
      "1    0    0    0    0    0    0    0    0    0    0  ...    0    0    0    0   \n",
      "2    0    0    0    0    0    0    0    0    0    0  ...    0    0    0    0   \n",
      "3    0    0    0    0    0    0    0    0    0    0  ...    0    0    0    0   \n",
      "4    0    0    0    0    0    0    0    0    0    0  ...    0    0    0    0   \n",
      "\n",
      "   778  779  780  781  782  783  \n",
      "0    0    0    0    0    0    0  \n",
      "1    0    0    0    0    0    0  \n",
      "2    0    0    0    0    0    0  \n",
      "3    0    0    0    0    0    0  \n",
      "4    0    0    0    0    0    0  \n",
      "\n",
      "[5 rows x 784 columns]\n",
      "   0\n",
      "0  0\n",
      "1  0\n",
      "2  0\n",
      "3  0\n",
      "4  0\n"
     ]
    }
   ],
   "source": [
    "print(X.head())\n",
    "print(y.head())"
   ]
  },
  {
   "cell_type": "markdown",
   "metadata": {},
   "source": [
    "Here we see that the data is not optimized for visualisation, so we need to reshape it for visualization. We use pyplot in order to show the image, and to check if it is correct we print out the corresponding label"
   ]
  },
  {
   "cell_type": "code",
   "execution_count": 4,
   "metadata": {},
   "outputs": [
    {
     "name": "stdout",
     "output_type": "stream",
     "text": [
      "9\n"
     ]
    },
    {
     "data": {
      "text/plain": [
       "<matplotlib.image.AxesImage at 0x1e8212f1e80>"
      ]
     },
     "execution_count": 4,
     "metadata": {},
     "output_type": "execute_result"
    },
    {
     "data": {
      "image/png": "[encoded data removed]",
      "text/plain": [
       "<Figure size 432x288 with 1 Axes>"
      ]
     },
     "metadata": {
      "needs_background": "light"
     },
     "output_type": "display_data"
    }
   ],
   "source": [
    "X_data = X.values.reshape(X.shape[0], 28, 28)\n",
    "\n",
    "image_index = 69000\n",
    "print(y.iat[image_index, 0])\n",
    "plt.imshow(X_data[image_index], cmap='Greys')"
   ]
  },
  {
   "cell_type": "markdown",
   "metadata": {},
   "source": [
    "##### As this is an image dataset, there is not much insight to gain, but we will extract what we can, firstly, we can look at the distribution of labels"
   ]
  },
  {
   "cell_type": "code",
   "execution_count": 5,
   "metadata": {},
   "outputs": [
    {
     "data": {
      "text/plain": [
       "<matplotlib.axes._subplots.AxesSubplot at 0x1e8220b0978>"
      ]
     },
     "execution_count": 5,
     "metadata": {},
     "output_type": "execute_result"
    },
    {
     "data": {
      "image/png": "[encoded data removed]",
      "text/plain": [
       "<Figure size 1440x720 with 1 Axes>"
      ]
     },
     "metadata": {
      "needs_background": "light"
     },
     "output_type": "display_data"
    }
   ],
   "source": [
    "axes = plt.subplots(figsize=(20,10))\n",
    "pd.value_counts(y.values.flatten(), sort=False).plot(kind=\"bar\", rot=0, legend=\"Label\", color=color)"
   ]
  },
  {
   "cell_type": "markdown",
   "metadata": {},
   "source": [
    "As we can see, it seems like it is pretty evenly distributed, so we won't need for example a majoriy classifier later on. We can also check what datatype our values are. This will be useful as we might have to do mathematical operations on the dataset in order to make it model-friendly"
   ]
  },
  {
   "cell_type": "code",
   "execution_count": 6,
   "metadata": {},
   "outputs": [
    {
     "name": "stdout",
     "output_type": "stream",
     "text": [
      "<class 'numpy.ndarray'>\n",
      "<class 'numpy.int64'>\n"
     ]
    }
   ],
   "source": [
    "print(type(X_data[image_index]))\n",
    "print(type(y.iat[image_index, 0]))"
   ]
  },
  {
   "cell_type": "markdown",
   "metadata": {},
   "source": [
    "Its also nice to know what shape we have for debugging purposes"
   ]
  },
  {
   "cell_type": "code",
   "execution_count": 7,
   "metadata": {},
   "outputs": [
    {
     "name": "stdout",
     "output_type": "stream",
     "text": [
      "(70000, 784)\n",
      "(70000, 1)\n"
     ]
    }
   ],
   "source": [
    "print(X.shape)\n",
    "print(y.shape)"
   ]
  },
  {
   "cell_type": "markdown",
   "metadata": {},
   "source": [
    "Lastly, we check if there are any null values. Since this is quite the clean dataset, we dont need to worry with replacing any values."
   ]
  },
  {
   "cell_type": "code",
   "execution_count": 8,
   "metadata": {},
   "outputs": [
    {
     "name": "stdout",
     "output_type": "stream",
     "text": [
      "0      0\n",
      "1      0\n",
      "2      0\n",
      "3      0\n",
      "4      0\n",
      "      ..\n",
      "779    0\n",
      "780    0\n",
      "781    0\n",
      "782    0\n",
      "783    0\n",
      "Length: 784, dtype: int64\n"
     ]
    }
   ],
   "source": [
    "print(X.isnull().sum())"
   ]
  },
  {
   "cell_type": "markdown",
   "metadata": {},
   "source": [
    "# Prepare the data to better expose the underlying data patterns to machine learning algorithms"
   ]
  },
  {
   "cell_type": "markdown",
   "metadata": {},
   "source": [
    "Firstly we need to reshape the data in order for it to be usable by the different models, and we also need to split the data into train and test datasets. We do that split twice in order to get a validation set. We also reshape the data to work with the neural network."
   ]
  },
  {
   "cell_type": "code",
   "execution_count": 9,
   "metadata": {},
   "outputs": [],
   "source": [
    "from sklearn.model_selection import train_test_split\n",
    "X_train, X_test, y_train, y_test = train_test_split(X, y, test_size= 0.2, random_state = seed)\n",
    "X_train, X_val, y_train, y_val = train_test_split(X_train, y_train, test_size= 0.2, random_state = seed)\n",
    "\n",
    "#reshaping to work with keras\n",
    "X_train_rs = X_train.values.reshape(X_train.shape[0], 28, 28, 1)\n",
    "X_test_rs = X_test.values.reshape(X_test.shape[0], 28, 28, 1)\n",
    "X_val_rs= X_val.values.reshape(X_val.shape[0], 28, 28, 1)"
   ]
  },
  {
   "cell_type": "markdown",
   "metadata": {},
   "source": [
    "To be able to normalize the data, we need to make it possible to divide it"
   ]
  },
  {
   "cell_type": "code",
   "execution_count": 10,
   "metadata": {},
   "outputs": [],
   "source": [
    "#change reshaped values to floats\n",
    "X_train_rs = X_train_rs.astype('float32')\n",
    "X_test_rs = X_test_rs.astype('float32')\n",
    "X_val_rs= X_val_rs.astype('float32')"
   ]
  },
  {
   "cell_type": "markdown",
   "metadata": {},
   "source": [
    "Here we divide by the max RGB code to normalize it"
   ]
  },
  {
   "cell_type": "code",
   "execution_count": 11,
   "metadata": {},
   "outputs": [],
   "source": [
    "#Normalizing\n",
    "X_train_rs /= 255\n",
    "X_test_rs /= 255\n",
    "X_val_rs /= 255"
   ]
  },
  {
   "cell_type": "markdown",
   "metadata": {},
   "source": [
    "We also need to one-hot encode our labels in order to use them with keras"
   ]
  },
  {
   "cell_type": "code",
   "execution_count": 12,
   "metadata": {},
   "outputs": [],
   "source": [
    "#one-hot encoding\n",
    "y_train_oh = to_categorical(y_train)\n",
    "y_test_oh = to_categorical(y_test)\n",
    "y_val_oh = to_categorical(y_val)"
   ]
  },
  {
   "cell_type": "markdown",
   "metadata": {},
   "source": [
    "# Explore different models and short-list the best ones"
   ]
  },
  {
   "cell_type": "markdown",
   "metadata": {},
   "source": [
    "To start with, we will use an easy-to-implement model, such as DecisionTreeClassifier from Sklearn, but first we need to import some metrics to see how our models perform"
   ]
  },
  {
   "cell_type": "code",
   "execution_count": 13,
   "metadata": {},
   "outputs": [],
   "source": [
    "from sklearn.metrics import accuracy_score, f1_score, confusion_matrix"
   ]
  },
  {
   "cell_type": "code",
   "execution_count": 14,
   "metadata": {},
   "outputs": [],
   "source": [
    "from sklearn.tree import DecisionTreeClassifier\n",
    "decision_tree = DecisionTreeClassifier(random_state=seed)\n",
    "decision_tree.fit(X_train, y_train)\n",
    "y_ = decision_tree.predict(X_test)"
   ]
  },
  {
   "cell_type": "code",
   "execution_count": 15,
   "metadata": {},
   "outputs": [
    {
     "data": {
      "text/plain": [
       "0.8652142857142857"
      ]
     },
     "execution_count": 15,
     "metadata": {},
     "output_type": "execute_result"
    }
   ],
   "source": [
    "accuracy_score(y_test,y_)"
   ]
  },
  {
   "cell_type": "markdown",
   "metadata": {},
   "source": [
    "As we can see, it performs ok for a model without tuning, and is considerably faster than if we had to label by hand(alebit a human would probably have a better accuracy), but we can do better. Firstly we will create a couple more models with basic configuration and no hyper-parameter tuning, then in the next part we will implement model-selection and hyper-parameter tuning. The models we will implement next are: RandomForestClassifier, Keras NN(will switch to CNN in the next part), and LightGBMClassifier(Light gradient boosted machine)"
   ]
  },
  {
   "cell_type": "code",
   "execution_count": 16,
   "metadata": {},
   "outputs": [],
   "source": [
    "from sklearn.ensemble import RandomForestClassifier\n",
    "random_forest = RandomForestClassifier(random_state=seed)\n",
    "random_forest.fit(X_train, y_train)\n",
    "y_ = random_forest.predict(X_test)"
   ]
  },
  {
   "cell_type": "code",
   "execution_count": 17,
   "metadata": {},
   "outputs": [
    {
     "data": {
      "text/plain": [
       "0.9411428571428572"
      ]
     },
     "execution_count": 17,
     "metadata": {},
     "output_type": "execute_result"
    }
   ],
   "source": [
    "accuracy_score(y_test, y_)"
   ]
  },
  {
   "cell_type": "markdown",
   "metadata": {},
   "source": [
    "Here we use a simple keras neural network, and in order to get the correct output shape, we need to flatten it"
   ]
  },
  {
   "cell_type": "code",
   "execution_count": 19,
   "metadata": {},
   "outputs": [
    {
     "name": "stdout",
     "output_type": "stream",
     "text": [
      "Epoch 1/5\n",
      "44800/44800 [==============================] - 336s 7ms/step - loss: 0.3866 - accuracy: 0.8876\n",
      "Epoch 2/5\n",
      "44800/44800 [==============================] - 331s 7ms/step - loss: 0.3145 - accuracy: 0.9118\n",
      "Epoch 3/5\n",
      "44800/44800 [==============================] - 332s 7ms/step - loss: 0.2993 - accuracy: 0.9156\n",
      "Epoch 4/5\n",
      "44800/44800 [==============================] - 380s 8ms/step - loss: 0.2919 - accuracy: 0.9182\n",
      "Epoch 5/5\n",
      "44800/44800 [==============================] - 461s 10ms/step - loss: 0.2851 - accuracy: 0.9192\n"
     ]
    }
   ],
   "source": [
    "from keras.layers import Dense, Conv2D, Flatten, Dropout, MaxPooling2D\n",
    "model = Sequential()\n",
    "model.add(Dense(784, activation=\"relu\", input_shape = X_train_rs[0].shape))\n",
    "model.add(Flatten())\n",
    "model.add(Dense(10, activation=\"softmax\"))\n",
    "model.compile(loss=categorical_crossentropy, optimizer=SGD(0.1), metrics=['accuracy'])\n",
    "\n",
    "history = model.fit(X_train_rs, y_train_oh, batch_size = 16, epochs = 5)\n",
    "y_ = model.predict(X_test_rs)"
   ]
  },
  {
   "cell_type": "code",
   "execution_count": 20,
   "metadata": {},
   "outputs": [
    {
     "name": "stdout",
     "output_type": "stream",
     "text": [
      "14000/14000 [==============================] - 38s 3ms/step\n",
      "[0.3129837729845728, 0.915071427822113]\n"
     ]
    }
   ],
   "source": [
    "from keras.metrics import accuracy\n",
    "print(model.evaluate(X_test_rs, y_test_oh))"
   ]
  },
  {
   "cell_type": "markdown",
   "metadata": {},
   "source": [
    "You could try to run the code below to use XGBoost Classifier, but on multiclass classification it seems that the time increases quadratically with the number of classes(took me ish 1 hour to run on my desktop computer). Instead we will use LightGBM which is also a gradient boosted machine."
   ]
  },
  {
   "cell_type": "code",
   "execution_count": 20,
   "metadata": {},
   "outputs": [],
   "source": [
    "#from xgboost import XGBClassifier\n",
    "#model = XGBClassifier()\n",
    "#model.fit(X_train, y_train)\n",
    "\n",
    "#print(model)\n",
    "\n",
    "#y_ = model.predict(X_test)"
   ]
  },
  {
   "cell_type": "code",
   "execution_count": null,
   "metadata": {},
   "outputs": [],
   "source": [
    "%%time\n",
    "\n",
    "import lightgbm as lgbm\n",
    "model = lgbm.LGBMClassifier(objective='multiclass',silent=False, random_state = seed)\n",
    "model.fit(X_train, y_train)\n",
    "y_ = model.predict(X_test)\n",
    "\n",
    "print(model)"
   ]
  },
  {
   "cell_type": "code",
   "execution_count": null,
   "metadata": {},
   "outputs": [],
   "source": [
    "print(accuracy_score(y_test, y_))"
   ]
  },
  {
   "cell_type": "markdown",
   "metadata": {},
   "source": [
    "Pretty good score here! But we can make it better"
   ]
  },
  {
   "cell_type": "markdown",
   "metadata": {},
   "source": [
    "# Fine-tune models and combine them to a good solution"
   ]
  },
  {
   "cell_type": "markdown",
   "metadata": {},
   "source": [
    "This section is all about fine tuning our models, as well as selecting the best one. We are going to implement model selection, as well as an \"ensemble\" of all our models into one to see if it gives us the highest score in this notebook. Firstly we will see how we can improve RandomForest and DecisionTree, then we will make a Convolutional Neural-Network with keras, and lastly do some fine tuning on the hyper parameters for LightGBM. We start out by implementing kfolds cross validation."
   ]
  },
  {
   "cell_type": "code",
   "execution_count": 23,
   "metadata": {},
   "outputs": [],
   "source": [
    "def KFold_split(X, Y, num_folds, seed):\n",
    "    KFold_splitter = KFold(n_splits=num_folds, shuffle=True, random_state=seed)\n",
    "    X_train_folds = []\n",
    "    X_val_folds = []\n",
    "    Y_train_folds = []\n",
    "    Y_val_folds = []\n",
    "    for (kth_fold_train_idxs, kth_fold_val_idxs) in KFold_splitter.split(X, Y):\n",
    "        X_train_folds.append(X[kth_fold_train_idxs])\n",
    "        X_val_folds.append(X[kth_fold_val_idxs])\n",
    "        Y_train_folds.append(Y[kth_fold_train_idxs])\n",
    "        Y_val_folds.append(Y[kth_fold_val_idxs])\n",
    "    return X_train_folds, X_val_folds, Y_train_folds, Y_val_folds"
   ]
  },
  {
   "cell_type": "code",
   "execution_count": 24,
   "metadata": {},
   "outputs": [],
   "source": [
    "def KFold_model_selection(X, Y, models, num_folds, hyperparameters, seed):\n",
    "    X_train_val, X_test, Y_train_val, Y_test = train_test_split(X, Y, test_size = 0.2)\n",
    "    X_train_folds, X_val_folds, Y_train_folds, Y_val_folds = KFold_split(X, Y, num_folds, seed)\n",
    "    accuracy_scores = []\n",
    "    foridx = 0\n",
    "    for hyperparameter in hyperparameters:\n",
    "        print(\"\\nNow preprocessing model\", Type(hyperparameter[0]))\n",
    "        accuracy_score = perform_KFold_CV(X_train_folds, X_val_folds, Y_train_folds, Y_val_folds, hyperparameter, foridx)\n",
    "        print(\"Mean accuracy score:\", accuracy_score)\n",
    "        accuray_scores.append(accuracy_score)\n",
    "        foridx += 1\n",
    "\n",
    "    min_val = np.min(accuracy_scores)\n",
    "    best_model_idx = accuracy_scores.index(min_val)\n",
    "    best_model = hyperparameters[best_model_idx]\n",
    "    print(\"\\n\\nBest model:\", best_model)\n",
    "\n",
    "    best_model_test_F1 = min_val\n",
    "    print(\"Test F1:\", best_model_test_accuracy_score)"
   ]
  },
  {
   "cell_type": "code",
   "execution_count": 25,
   "metadata": {},
   "outputs": [],
   "source": [
    "def perform_KFold_CV(X_train_folds, X_val_folds, Y_train_folds, Y_val_folds, hyperparameter, model_idx):\n",
    "    val_fold_accuracy_scores = []\n",
    "    cmpt = 0\n",
    "    # For each fold, assess a surrogate model with fixed hyper-parameters:\n",
    "    for X_train_fold, X_val_fold, Y_train_fold, Y_val_fold in zip(X_train_folds, X_val_folds, Y_train_folds, Y_val_folds):\n",
    "        val_fold_accuracy_score = assess_model(X_train_fold, X_val_fold, Y_train_fold, Y_val_fold, hyperparameter, model_idx)\n",
    "        cmpt += 1\n",
    "        print(\"Surrogate model\", str(cmpt) + \"/\" + str(len(X_val_folds)), \"validation accuracy score:\", val_fold_accuracy_score)\n",
    "        val_fold_accuracy_scores.append(val_fold_accuracy_score)\n",
    "    mean_accuracy_score = np.mean(val_fold_accuracy_scores)\n",
    "    return mean_accuracy_score"
   ]
  },
  {
   "cell_type": "code",
   "execution_count": 26,
   "metadata": {},
   "outputs": [],
   "source": [
    "def assess_model(X_train, X_test, y_train, y_test, model):\n",
    "    if(model[0] == DecisionTreeClassifier()):\n",
    "        clf = DecisionTreeClassifier(max_depth = hyperparameter[0], )\n",
    "    elif(model[0] == RandomForestClassifier()):\n",
    "        clf = model[0]\n",
    "    elif(model[0] == lgbm.LGBMClassifier()):\n",
    "        clf = model[0]\n",
    "        clf = clf(objective='multiclass',silent=False, random_state = seed, learning_rate=model[1], )\n",
    "    if(model[0] != Sequential()):\n",
    "        model.fit(X_train, y_train)\n",
    "        y_ = model.predict(X_test)\n",
    "        accuracy_score = accuracy_score(y_test, y_)\n",
    "    else:\n",
    "        model.fit(X_train_rs, y_train_oh)\n",
    "        y_ = model.predict(X_test_rs)\n",
    "        accuracy_score = model.evaluate(y_test_oh)\n",
    "    return accuracy_score"
   ]
  },
  {
   "cell_type": "code",
   "execution_count": 27,
   "metadata": {},
   "outputs": [],
   "source": [
    "hyper_parameters_instances = {\"0\": [DecisionTreeClassifier(), range(2,20), 0.05],\n",
    "                              \"1\": [RandomForestClassifier(), 5, 0.05],\n",
    "                              \"2\": [lgbm.LGBMClassifier,(0.01), 0.07]}\n"
   ]
  },
  {
   "cell_type": "code",
   "execution_count": 37,
   "metadata": {},
   "outputs": [],
   "source": [
    "def hyperparameter_pipeline(X_train, y_train, X_test, y_test, model, params, cv=10, scoring='mean_squared_error'):\n",
    "    grid = GridSearchCV(estimator=model, param_grid=params, cv=cv, n_jobs=-1, scoring=scoring, verbose=2)\n",
    "    clf = grid.fit(X_train, y_train)\n",
    "    \n",
    "    pred = clf.predict(X_test)\n",
    "    \n",
    "    return clf, pred"
   ]
  },
  {
   "cell_type": "code",
   "execution_count": null,
   "metadata": {},
   "outputs": [
    {
     "name": "stdout",
     "output_type": "stream",
     "text": [
      "Fitting 5 folds for each of 2916 candidates, totalling 14580 fits\n"
     ]
    },
    {
     "name": "stderr",
     "output_type": "stream",
     "text": [
      "[Parallel(n_jobs=-1)]: Using backend LokyBackend with 4 concurrent workers.\n",
      "[Parallel(n_jobs=-1)]: Done  33 tasks      | elapsed: 47.9min\n"
     ]
    }
   ],
   "source": [
    "model = lgbm.LGBMClassifier()\n",
    "param_grid = {\n",
    "    'n_estimators': [400, 800, 1000],\n",
    "    'colsample:bytree': [0.7, 0.8],\n",
    "    'max_depth': [15, 21, 26],\n",
    "    'reg_lambda': [1.1, 1.2, 1.3],\n",
    "    'reg_alpha': [1.1, 1.2, 1.3],\n",
    "    'subsample': [0.7, 0.8, 0.9],\n",
    "    'subsample_freq': [20],\n",
    "    'num_leaves': [100, 150, 200],\n",
    "    'min_split_gain': [0.3, 0.4]\n",
    "}\n",
    "\n",
    "model, pred = hyperparameter_pipeline(X_train, y_train, X_test, y_test, model, param_grid, cv=5, scoring='accuracy')\n",
    "\n",
    "print(model.best_score_)\n",
    "print(model.best_params_)"
   ]
  },
  {
   "cell_type": "markdown",
   "metadata": {},
   "source": [
    "Lets try a bit more advanced neural network with more epochs, and using the adam optimizer instead of stochastic gradient descent. I thought about including it in the kfold CV, but i'd rather do it manually, and walk you through the steps i made before coming up with this solution."
   ]
  },
  {
   "cell_type": "code",
   "execution_count": null,
   "metadata": {},
   "outputs": [],
   "source": [
    "model = Sequential()\n",
    "#model.add(Conv2D(28, kernel_size=(3, 3), input_shape=X_train_rs[0].shape))\n",
    "#model.add(MaxPooling2D(pool_size=(2,2)))\n",
    "#model.add(Flatten())\n",
    "#model.add(Dense(280, activation=\"relu\"))\n",
    "#model.add(Dropout(0.2))\n",
    "#model.add(Dense(10, activation=\"softmax\"))\n",
    "\n",
    "model.add(Conv2D(32,kernel_size=3,activation='relu',input_shape=(28,28,1)))\n",
    "model.add(BatchNormalization())\n",
    "model.add(Conv2D(32,kernel_size=3,activation='relu'))\n",
    "model.add(MaxPooling2D(pool_size=(2,2)))\n",
    "model.add(Conv2D(20,kernel_size=5,strides=2,padding='same',activation='relu'))\n",
    "model.add(BatchNormalization())\n",
    "model.add(Dropout(0.4))\n",
    "\n",
    "model.add(Flatten())\n",
    "model.add(Dense(16, activation='relu'))\n",
    "model.add(BatchNormalization())\n",
    "model.add(Dropout(0.4))\n",
    "model.add(Dense(10, activation='softmax'))\n",
    "\n",
    "model.compile(optimizer=\"adam\", loss=categorical_crossentropy, metrics=['accuracy'])\n",
    "model.fit(X_train_rs, y_train_oh, epochs = 15)\n"
   ]
  },
  {
   "cell_type": "markdown",
   "metadata": {},
   "source": [
    "# Validate and present solution"
   ]
  },
  {
   "cell_type": "code",
   "execution_count": null,
   "metadata": {},
   "outputs": [],
   "source": [
    "model.evaluate(X_val_rs, y_val_oh)[1]"
   ]
  },
  {
   "cell_type": "code",
   "execution_count": null,
   "metadata": {},
   "outputs": [],
   "source": []
  }
 ],
 "metadata": {
  "kernelspec": {
   "display_name": "Python 3",
   "language": "python",
   "name": "python3"
  },
  "language_info": {
   "codemirror_mode": {
    "name": "ipython",
    "version": 3
   },
   "file_extension": ".py",
   "mimetype": "text/x-python",
   "name": "python",
   "nbconvert_exporter": "python",
   "pygments_lexer": "ipython3",
   "version": "3.6.9"
  },
  "toc": {
   "base_numbering": 1,
   "nav_menu": {},
   "number_sections": true,
   "sideBar": true,
   "skip_h1_title": false,
   "title_cell": "Table of Contents",
   "title_sidebar": "Contents",
   "toc_cell": false,
   "toc_position": {},
   "toc_section_display": true,
   "toc_window_display": false
  }
 },
 "nbformat": 4,
 "nbformat_minor": 2
}
